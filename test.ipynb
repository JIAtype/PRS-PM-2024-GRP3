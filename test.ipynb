{
 "cells": [
  {
   "cell_type": "code",
   "execution_count": 1,
   "metadata": {},
   "outputs": [],
   "source": [
    "import pandas as pd\n",
    "df = pd.read_csv(\"UI/data/Original_Data.csv\")"
   ]
  },
  {
   "cell_type": "code",
   "execution_count": 2,
   "metadata": {},
   "outputs": [
    {
     "data": {
      "text/plain": [
       "Index(['Member ID', 'Member Gender', 'Member Age', 'Member Duration(Month)',\n",
       "       'Averaged Spending Per Transaction', 'Maximun Spending Per Transaction',\n",
       "       'Minimun Spending Per Transaction', 'Averaged Number of Transaction',\n",
       "       'Averaged Purchasing Discount Rate', 'Averaged Price in Favorite Shop',\n",
       "       'Averaged Tax Rate in Favorite Shop',\n",
       "       'Number of Goods in Favorite Shop',\n",
       "       'Number of Favorite in  Favorite Shop'],\n",
       "      dtype='object')"
      ]
     },
     "execution_count": 2,
     "metadata": {},
     "output_type": "execute_result"
    }
   ],
   "source": [
    "numerical_features = df.columns\n",
    "numerical_features"
   ]
  }
 ],
 "metadata": {
  "kernelspec": {
   "display_name": "base",
   "language": "python",
   "name": "python3"
  },
  "language_info": {
   "codemirror_mode": {
    "name": "ipython",
    "version": 3
   },
   "file_extension": ".py",
   "mimetype": "text/x-python",
   "name": "python",
   "nbconvert_exporter": "python",
   "pygments_lexer": "ipython3",
   "version": "3.11.8"
  }
 },
 "nbformat": 4,
 "nbformat_minor": 2
}
